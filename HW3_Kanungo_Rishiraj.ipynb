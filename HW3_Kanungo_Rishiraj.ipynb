{
 "cells": [
  {
   "cell_type": "code",
   "execution_count": 43,
   "metadata": {},
   "outputs": [],
   "source": [
    "# load dependencies\n",
    "import statistics"
   ]
  },
  {
   "cell_type": "code",
   "execution_count": 15,
   "metadata": {},
   "outputs": [
    {
     "name": "stdout",
     "output_type": "stream",
     "text": [
      "{'Andy': 88, 'Amy': 66, 'James': 90, 'Jules': 55, 'Arthur': 77}\n"
     ]
    }
   ],
   "source": [
    "# Define a dictionary, composed with students name and their grade.\n",
    "# marks = {‘Andy’:88, ‘Amy’:66, 'James': 90, 'Jules': 55, 'Arthur': 77}\n",
    "\n",
    "student_dict = {'Andy': 88, 'Amy': 66, 'James': 90, 'Jules': 55, 'Arthur': 77}\n",
    "print(student_dict)"
   ]
  },
  {
   "cell_type": "code",
   "execution_count": 16,
   "metadata": {},
   "outputs": [
    {
     "name": "stdout",
     "output_type": "stream",
     "text": [
      "Andy has a grade of 88\n",
      "Amy has a grade of 66\n",
      "James has a grade of 90\n",
      "Jules has a grade of 55\n",
      "Arthur has a grade of 77\n"
     ]
    }
   ],
   "source": [
    "# Question 1: [0.5 point]\n",
    "# Using for loop, print out all the students name and their grade. \n",
    "\n",
    "for k,v in student_dict.items():\n",
    "    print(k, 'has a grade of', v)"
   ]
  },
  {
   "cell_type": "code",
   "execution_count": 24,
   "metadata": {},
   "outputs": [
    {
     "name": "stdout",
     "output_type": "stream",
     "text": [
      "Mean is: 75.2\n",
      "Maximum grade is: 90\n",
      "Maximum grade is: 55\n"
     ]
    }
   ],
   "source": [
    "# Question 2: [0.5 point]\n",
    "# Of this dictionary, calculate all the student’s mean grade, maximal grade, and minimal grade. \n",
    "\n",
    "print(\"Mean is:\",statistics.mean(student_dict.values()))\n",
    "print(\"Maximum grade is:\", max(student_dict.values()))\n",
    "print(\"Maximum grade is:\", min(student_dict.values()))"
   ]
  },
  {
   "cell_type": "code",
   "execution_count": 28,
   "metadata": {},
   "outputs": [
    {
     "name": "stdout",
     "output_type": "stream",
     "text": [
      "Andy\n",
      "Amy\n"
     ]
    }
   ],
   "source": [
    "# Question 3: [0.5 point]\n",
    "# Using for loop or while loop, for all the keys in the dictionary, print out key. However, if ‘J’ appears,\n",
    "# stop the loop. \n",
    "\n",
    "for k in student_dict:\n",
    "    if 'J' in k:\n",
    "        break\n",
    "    else:\n",
    "        print(k)"
   ]
  },
  {
   "cell_type": "code",
   "execution_count": 29,
   "metadata": {},
   "outputs": [
    {
     "name": "stdout",
     "output_type": "stream",
     "text": [
      "Andy\n",
      "Amy\n",
      "Arthur\n"
     ]
    }
   ],
   "source": [
    "# Question 4: [0.5 point]\n",
    "# Using for loop or while loop, for all the keys in the dictionary, print out key. However, if ‘J’ appears,\n",
    "# skip this key, and continue the loop.\n",
    "\n",
    "for k in student_dict:\n",
    "    if 'J' in k:\n",
    "        continue\n",
    "    else:\n",
    "        print(k)"
   ]
  },
  {
   "cell_type": "code",
   "execution_count": 32,
   "metadata": {},
   "outputs": [
    {
     "name": "stdout",
     "output_type": "stream",
     "text": [
      "The grade for the student Andy is: 88\n"
     ]
    }
   ],
   "source": [
    "# Question 5: [1 point]\n",
    "# Define a function, when you call the function, you only need to pass student’s name, your function will return\n",
    "# this student’s grade. If the student name does not exit, print you cannot find this student’s name. \n",
    "\n",
    "def studentGrade(studentName):\n",
    "    return student_dict[studentName]\n",
    "\n",
    "print(\"The grade for the student Andy is:\", studentGrade('Andy'))"
   ]
  },
  {
   "cell_type": "code",
   "execution_count": 35,
   "metadata": {},
   "outputs": [
    {
     "name": "stdout",
     "output_type": "stream",
     "text": [
      "1\n",
      "1\n",
      "4\n",
      "27\n",
      "256\n",
      "3125\n",
      "46656\n",
      "823543\n",
      "16777216\n",
      "9 greater than 8\n"
     ]
    }
   ],
   "source": [
    "# Question 6: [0.5 point]\n",
    "# Define a function. Using While Loop. As long as n is less than num, print out n and power of n.\n",
    "# Otherwise, print out “greater than” the num value. When you call your function, specify the num values\n",
    "# as 8.\n",
    "\n",
    "def random(num_values):\n",
    "    n = 0\n",
    "    while(n <= num_values):\n",
    "        print(n**n)\n",
    "        n += 1\n",
    "    print(n, \"greater than\", num_values)\n",
    "    \n",
    "random(8)"
   ]
  },
  {
   "cell_type": "code",
   "execution_count": 38,
   "metadata": {},
   "outputs": [
    {
     "name": "stdout",
     "output_type": "stream",
     "text": [
      "Sum from 1 to 10 is 55\n"
     ]
    }
   ],
   "source": [
    "# Question 7: [0.5 point]\n",
    "# Define a function. add all the integers from 1 to num, print out the sum. Using while loop. \n",
    "\n",
    "def totalSumWhileLoop(n):\n",
    "    total = 0\n",
    "    while(n >= 0):\n",
    "        total += n\n",
    "        n -= 1\n",
    "    return total\n",
    "\n",
    "print(\"Sum from 1 to 10 is\", totalSumWhileLoop(10))"
   ]
  },
  {
   "cell_type": "code",
   "execution_count": 40,
   "metadata": {},
   "outputs": [
    {
     "name": "stdout",
     "output_type": "stream",
     "text": [
      "Sum from 1 to 10 is 55\n"
     ]
    }
   ],
   "source": [
    "# Question 9: [0.5 point]\n",
    "# Define a function. add all the integers from 1 to num, print out the sum at each step/iteration. Using for\n",
    "# loop. \n",
    "\n",
    "def totalSumForLoop(n):\n",
    "    total = 0\n",
    "    for i in range(0,n+1):\n",
    "        total += i\n",
    "    return total\n",
    "\n",
    "print(\"Sum from 1 to 10 is\", totalSumForLoop(10))"
   ]
  },
  {
   "cell_type": "code",
   "execution_count": 42,
   "metadata": {},
   "outputs": [
    {
     "name": "stdout",
     "output_type": "stream",
     "text": [
      "The smallest value value is: 1\n",
      "The smallest value value is: 4\n"
     ]
    }
   ],
   "source": [
    "# Question 10: [0.5 point]\n",
    "# Define a min function yourself, with 4 arguments. Your function will return the minimal value of the 4\n",
    "# arguments. Do not use the python built-in functions.\n",
    "\n",
    "def minimal (v1, v2, v3, v4):\n",
    "    if v1 < v2 and v1 < v3 and v1 < v4:\n",
    "        return v1\n",
    "    elif v2 < v1 and v2 < v3 and v2 < v4:\n",
    "        return v2\n",
    "    elif v3 < v1 and v3 < v2 and v3 < v4:\n",
    "        return v3\n",
    "    else:\n",
    "        return v4\n",
    "    \n",
    "print(\"The smallest value value is:\", minimal(1,2,4,5))\n",
    "print(\"The smallest value value is:\", minimal(5,23,4,4))"
   ]
  }
 ],
 "metadata": {
  "kernelspec": {
   "display_name": "Python 3",
   "language": "python",
   "name": "python3"
  },
  "language_info": {
   "codemirror_mode": {
    "name": "ipython",
    "version": 3
   },
   "file_extension": ".py",
   "mimetype": "text/x-python",
   "name": "python",
   "nbconvert_exporter": "python",
   "pygments_lexer": "ipython3",
   "version": "3.8.1"
  }
 },
 "nbformat": 4,
 "nbformat_minor": 4
}
