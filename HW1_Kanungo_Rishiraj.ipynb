{
 "cells": [
  {
   "cell_type": "code",
   "execution_count": 1,
   "metadata": {},
   "outputs": [],
   "source": [
    "# List of favorite colors\n",
    "favorite_colors = ['red', 'white', 'black', 'cyan', 'purple']"
   ]
  },
  {
   "cell_type": "code",
   "execution_count": 7,
   "metadata": {},
   "outputs": [
    {
     "name": "stdout",
     "output_type": "stream",
     "text": [
      "30\n",
      "33\n",
      "36\n",
      "39\n",
      "42\n",
      "45\n",
      "48\n",
      "51\n",
      "54\n",
      "57\n",
      "60\n",
      "(30, 33, 36, 39, 42, 45, 48, 51, 54, 57, 60)\n"
     ]
    }
   ],
   "source": [
    "# create list to convert into tuple\n",
    "list_to_tuple = []\n",
    "\n",
    "# iterate through 30 to 60 in increments of 3\n",
    "for i in range(30,61,3):\n",
    "    print(i)\n",
    "    list_to_tuple.append(i)\n",
    "    \n",
    "# Transfer this list into tuple\n",
    "list_to_tuple = tuple(list_to_tuple)\n",
    "print(list_to_tuple)"
   ]
  },
  {
   "cell_type": "code",
   "execution_count": 5,
   "metadata": {},
   "outputs": [
    {
     "name": "stdout",
     "output_type": "stream",
     "text": [
      "[0, 1, 2, 3, 4, 5]\n",
      "[0, 1, 2.0, 3, 4, 5]\n",
      "Length of list: 6\n",
      "Maximum of list: 5\n",
      "Minimum of list: 0\n"
     ]
    }
   ],
   "source": [
    "# create empty list\n",
    "a = []\n",
    "\n",
    "# append integers from 0 to 5 to this list\n",
    "for i in range(0,6):\n",
    "    a.append(i)\n",
    "print(a)\n",
    "\n",
    "# delete item 2\n",
    "a.remove(2)\n",
    "\n",
    "# insert 2.0 to the original position where 2 was\n",
    "a.insert(2, 2.0)\n",
    "print(a)\n",
    "\n",
    "# return the length, maximal and minimal values of the newest list; [0.5 point]\n",
    "print(\"Length of list:\", len(a))\n",
    "print(\"Maximum of list:\", max(a))\n",
    "print(\"Minimum of list:\", min(a))"
   ]
  },
  {
   "cell_type": "code",
   "execution_count": 8,
   "metadata": {},
   "outputs": [
    {
     "name": "stdout",
     "output_type": "stream",
     "text": [
      "55\n"
     ]
    }
   ],
   "source": [
    "# Generate a list from 1 to 10, then sum up all the items. Eg: 1+2+3+…+ 10.\n",
    "sum = 0\n",
    "\n",
    "for i in range(1,11):\n",
    "    sum += i\n",
    "\n",
    "print(sum)"
   ]
  }
 ],
 "metadata": {
  "kernelspec": {
   "display_name": "Python 3",
   "language": "python",
   "name": "python3"
  },
  "language_info": {
   "codemirror_mode": {
    "name": "ipython",
    "version": 3
   },
   "file_extension": ".py",
   "mimetype": "text/x-python",
   "name": "python",
   "nbconvert_exporter": "python",
   "pygments_lexer": "ipython3",
   "version": "3.8.1"
  }
 },
 "nbformat": 4,
 "nbformat_minor": 4
}
