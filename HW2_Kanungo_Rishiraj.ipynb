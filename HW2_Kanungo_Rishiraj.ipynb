{
 "cells": [
  {
   "cell_type": "code",
   "execution_count": 1,
   "metadata": {},
   "outputs": [
    {
     "name": "stdout",
     "output_type": "stream",
     "text": [
      "0\n",
      "1\n",
      "2\n",
      "3\n",
      "4\n"
     ]
    }
   ],
   "source": [
    "# Using While Loop. As long as n is less than 10, print out n. However, when n equals to 5, stop the loop.\n",
    "# (Initialize n=0). [0.5 point]\n",
    "\n",
    "n = 0\n",
    "while (n < 10):\n",
    "    if n == 5:\n",
    "        break\n",
    "    print(n)\n",
    "    n+=1"
   ]
  },
  {
   "cell_type": "code",
   "execution_count": 6,
   "metadata": {},
   "outputs": [
    {
     "name": "stdout",
     "output_type": "stream",
     "text": [
      "0\n",
      "1\n",
      "2\n",
      "3\n",
      "4\n",
      "5 is not less than 5\n"
     ]
    }
   ],
   "source": [
    "# Using while loop. Initialize n=0. While n is < 5, print out n. Otherwise, print out $n “is not less than 5”. \n",
    "\n",
    "n = 0\n",
    "while (n < 6):\n",
    "    if n > 4:\n",
    "        print(n, \"is not less than 5\")\n",
    "        break\n",
    "    print(n)\n",
    "    n+=1"
   ]
  },
  {
   "cell_type": "code",
   "execution_count": 11,
   "metadata": {},
   "outputs": [
    {
     "name": "stdout",
     "output_type": "stream",
     "text": [
      "I like cherry\n",
      "I like banana\n",
      "I like mango\n",
      "I like peach\n",
      "Is apple really a fruit?\n"
     ]
    }
   ],
   "source": [
    "# Create your favorite fruit list, using For Loop, print out all the fruits in your list. However, when one\n",
    "# fruit name equals to “apple”, stop the loop.\n",
    "\n",
    "favorite_fruits = ['cherry', 'banana', 'mango', 'peach', 'apple']\n",
    "\n",
    "for i in favorite_fruits:\n",
    "    if i =='apple':\n",
    "        print(\"Is\", i, \"really a fruit?\")\n",
    "        break\n",
    "    else:\n",
    "        print(\"I like\", i)"
   ]
  },
  {
   "cell_type": "code",
   "execution_count": 12,
   "metadata": {},
   "outputs": [
    {
     "name": "stdout",
     "output_type": "stream",
     "text": [
      "465\n"
     ]
    }
   ],
   "source": [
    "# Add all the integers from 1 to 30, print out the sum. Using while loop. \n",
    "\n",
    "sum = 0\n",
    "i = 1\n",
    "\n",
    "while(i < 31):\n",
    "    sum += i\n",
    "    i+=1\n",
    "\n",
    "print(sum)"
   ]
  },
  {
   "cell_type": "code",
   "execution_count": 26,
   "metadata": {},
   "outputs": [
    {
     "name": "stdout",
     "output_type": "stream",
     "text": [
      "sunny play\n",
      "rainy watch TV\n",
      "cloudy walk\n"
     ]
    }
   ],
   "source": [
    "# Create a weather dictionary. Using for loop, print out all the keys and values in the same line.\n",
    "# Then add a new pair (“snowy”, “ski”) to your dictionary.\n",
    "\n",
    "weather_dict = {'sunny': 'play', 'rainy': 'watch TV', 'cloudy':'walk'}\n",
    "\n",
    "for key, value in weather_dict.items():\n",
    "    print(key,value)\n",
    "    \n",
    "weather_dict['snowy'] ='ski'"
   ]
  },
  {
   "cell_type": "code",
   "execution_count": 23,
   "metadata": {},
   "outputs": [
    {
     "name": "stdout",
     "output_type": "stream",
     "text": [
      "When it's sunny then we play\n",
      "When it's rainy then we watch TV\n",
      "When it's cloudy then we walk\n",
      "When it's snowy then we ski\n"
     ]
    }
   ],
   "source": [
    "# Using if … else statement, write the above weather dictionary statement. For example, if weather is\n",
    "# sunny, print out play, if weather is rainy, print out watch TV\n",
    "\n",
    "for key, value in weather_dict.items():\n",
    "    if key == \"sunny\":\n",
    "        print(\"When it's\",key, \"then we\", value)\n",
    "        continue\n",
    "    if key == \"rainy\":\n",
    "        print(\"When it's\",key, \"then we\", value)\n",
    "        continue\n",
    "    if key == \"cloudy\":\n",
    "        print(\"When it's\",key, \"then we\", value)\n",
    "        continue\n",
    "    else:\n",
    "        print(\"When it's\",key, \"then we\", value)"
   ]
  },
  {
   "cell_type": "code",
   "execution_count": 20,
   "metadata": {},
   "outputs": [
    {
     "name": "stdout",
     "output_type": "stream",
     "text": [
      "F\n"
     ]
    }
   ],
   "source": [
    "# Using if…elif…else statement, to help grade students’ score. You can define grade yourself, for\n",
    "# example, grade = 55\n",
    "\n",
    "grade = 55\n",
    "\n",
    "if grade >= 90:\n",
    "    print(\"A\")\n",
    "elif grade >= 80 and grade < 90:\n",
    "    print(\"B\")\n",
    "elif grade >= 70 and grade < 80:\n",
    "    print(\"C\")\n",
    "elif grade >= 60 and grade < 70:\n",
    "    print(\"D\")\n",
    "else:\n",
    "    print(\"F\")\n"
   ]
  }
 ],
 "metadata": {
  "kernelspec": {
   "display_name": "Python 3",
   "language": "python",
   "name": "python3"
  },
  "language_info": {
   "codemirror_mode": {
    "name": "ipython",
    "version": 3
   },
   "file_extension": ".py",
   "mimetype": "text/x-python",
   "name": "python",
   "nbconvert_exporter": "python",
   "pygments_lexer": "ipython3",
   "version": "3.8.1"
  }
 },
 "nbformat": 4,
 "nbformat_minor": 4
}
